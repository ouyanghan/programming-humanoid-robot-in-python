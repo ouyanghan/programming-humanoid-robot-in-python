{
 "cells": [
  {
   "cell_type": "markdown",
   "metadata": {},
   "source": [
    "# add data to training set\n",
    "\n",
    "\n",
    "The provided train data may not sufficient to get good pose recognization results. In case the pose is not recognized correctly, this data can be manually added to the train data."
   ]
  },
  {
   "cell_type": "markdown",
   "metadata": {},
   "source": [
    "## Defined Poses\n",
    "* Stand: the weight is supported by the feet and the torso is upright.\n",
    "* StandInit: the torso is upright, and legs are bended (be ready to walk)\n",
    "* Sitting: the buttock is in contact with the ground and the torso is upright.\n",
    "* Crouch: sit on its feet\n",
    "* Belly: fall, stretched and facing down\n",
    "* Back: fall, stretched and facing up\n",
    "* Forg: fall, facing down with the trunk lifted.\n",
    "* HeadBack: fall, facing up with the trunk lifted.\n",
    "* Left: fall and facing to its left side\n",
    "* Right: fall and facing to its right side\n",
    "\n",
    "There are images in robot_pose_image folder as examples for predefined poses."
   ]
  },
  {
   "cell_type": "code",
   "execution_count": null,
   "metadata": {},
   "outputs": [],
   "source": [
    "%pylab inline\n",
    "imshow(imread('robot_pose_image/Back.png'))"
   ]
  },
  {
   "cell_type": "markdown",
   "metadata": {},
   "source": [
    "## Load avaiable data"
   ]
  },
  {
   "cell_type": "code",
   "execution_count": null,
   "metadata": {},
   "outputs": [],
   "source": [
    "import pickle\n",
    "from os import path\n",
    "\n",
    "pose_name = 'Back'\n",
    "data_file = path.join('robot_pose_data', pose_name)\n",
    "data = pickle.load(open(data_file, 'rb'))"
   ]
  },
  {
   "cell_type": "code",
   "execution_count": null,
   "metadata": {},
   "outputs": [],
   "source": [
    "#Truncate to get original data back\n",
    "#data = data[:10]\n",
    "print(np.round(data, 3))"
   ]
  },
  {
   "cell_type": "markdown",
   "metadata": {},
   "source": [
    "## Add new data"
   ]
  },
  {
   "cell_type": "code",
   "execution_count": null,
   "metadata": {},
   "outputs": [],
   "source": [
    "#new_data = [0, 0, 0, 0, 0, 0, 0, 0, 0, -1.5707963267948966]\n",
    "new_data = [-0.23076743,  0.15128514,  0.21226694, -0.08724901, -0.23088961,\n",
    "       -0.06211627,  0.20601866, -0.07597418,  0.02890761, -1.14328406]\n",
    "data.append(new_data)\n",
    "\n",
    "pickle.dump(data, open(data_file, 'wb'))"
   ]
  },
  {
   "cell_type": "markdown",
   "metadata": {},
   "source": [
    "Now, you have to retrain your classifier [learn_posture.ipynb](./learn_posture.ipynb) again."
   ]
  },
  {
   "cell_type": "code",
   "execution_count": null,
   "metadata": {},
   "outputs": [],
   "source": []
  }
 ],
 "metadata": {
  "kernelspec": {
   "display_name": "Python 3",
   "language": "python",
   "name": "python3"
  },
  "language_info": {
   "codemirror_mode": {
    "name": "ipython",
    "version": 3
   },
   "file_extension": ".py",
   "mimetype": "text/x-python",
   "name": "python",
   "nbconvert_exporter": "python",
   "pygments_lexer": "ipython3",
   "version": "3.8.2"
  },
  "widgets": {
   "state": {},
   "version": "1.0.0"
  }
 },
 "nbformat": 4,
 "nbformat_minor": 1
}
